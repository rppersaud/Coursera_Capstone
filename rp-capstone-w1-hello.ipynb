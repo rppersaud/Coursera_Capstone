{
  "nbformat": 4,
  "nbformat_minor": 0,
  "metadata": {
    "colab": {
      "name": "Untitled68.ipynb",
      "provenance": [],
      "collapsed_sections": []
    },
    "kernelspec": {
      "name": "python3",
      "display_name": "Python 3"
    }
  },
  "cells": [
    {
      "cell_type": "markdown",
      "metadata": {
        "id": "0-3QzFscAncb"
      },
      "source": [
        "# Machine Learning Capstone Project Notebook\r\n",
        "- __Week 1__ - print hello statement and save to GitHub"
      ]
    },
    {
      "cell_type": "code",
      "metadata": {
        "id": "kvDg-PUcAufc"
      },
      "source": [
        "import pandas as pd\r\n",
        "import numpy as np\r\n"
      ],
      "execution_count": 1,
      "outputs": []
    },
    {
      "cell_type": "code",
      "metadata": {
        "colab": {
          "base_uri": "https://localhost:8080/"
        },
        "id": "acxubv2ZAXmJ",
        "outputId": "fc237fa7-48bf-4bc5-f1b8-10b2b6655df3"
      },
      "source": [
        "print(\"Hello Capstone Project Course!\")"
      ],
      "execution_count": 3,
      "outputs": [
        {
          "output_type": "stream",
          "text": [
            "Hello Capstone Project Course!\n"
          ],
          "name": "stdout"
        }
      ]
    }
  ]
}